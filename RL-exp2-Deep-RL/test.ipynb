{
 "cells": [
  {
   "cell_type": "code",
   "execution_count": 13,
   "metadata": {},
   "outputs": [],
   "source": [
    "import gymnasium as gym\n",
    "import numpy as np"
   ]
  },
  {
   "cell_type": "code",
   "execution_count": 18,
   "metadata": {},
   "outputs": [
    {
     "name": "stdout",
     "output_type": "stream",
     "text": [
      "(3,)\n",
      "(1,)\n",
      "False\n",
      "(1,)\n"
     ]
    },
    {
     "data": {
      "text/plain": [
       "False"
      ]
     },
     "execution_count": 18,
     "metadata": {},
     "output_type": "execute_result"
    }
   ],
   "source": [
    "env = gym.make(\"Pendulum-v1\", g=9.81)\n",
    "env.reset()\n",
    "print(env.observation_space.shape)\n",
    "print(env.action_space.shape)\n",
    "print(np.issubdtype(\n",
    "        type(env.action_space.sample()),\n",
    "        np.integer))\n",
    "print(env.action_space.sample().shape)\n",
    "action_lowbound = env.action_space.low[0]\n",
    "action_upbound = env.action_space.high[0]\n",
    "print(action_lowbound)\n",
    "print(action_upbound)\n",
    "isinstance(env.action_space, gym.spaces.Discrete)"
   ]
  },
  {
   "cell_type": "code",
   "execution_count": 19,
   "metadata": {},
   "outputs": [
    {
     "name": "stdout",
     "output_type": "stream",
     "text": [
      "(4,)\n",
      "()\n",
      "True\n",
      "()\n"
     ]
    },
    {
     "data": {
      "text/plain": [
       "True"
      ]
     },
     "execution_count": 19,
     "metadata": {},
     "output_type": "execute_result"
    }
   ],
   "source": [
    "env_new = gym.make(\"CartPole-v1\")\n",
    "env_new.reset()\n",
    "print(env_new.observation_space.shape)\n",
    "print(env_new.action_space.shape)\n",
    "print(np.issubdtype(\n",
    "        type(env_new.action_space.sample()),\n",
    "        np.integer))\n",
    "print(env_new.action_space.sample().shape)\n",
    "isinstance(env_new.action_space, gym.spaces.Discrete)"
   ]
  }
 ],
 "metadata": {
  "kernelspec": {
   "display_name": "rl",
   "language": "python",
   "name": "python3"
  },
  "language_info": {
   "codemirror_mode": {
    "name": "ipython",
    "version": 3
   },
   "file_extension": ".py",
   "mimetype": "text/x-python",
   "name": "python",
   "nbconvert_exporter": "python",
   "pygments_lexer": "ipython3",
   "version": "3.12.7"
  }
 },
 "nbformat": 4,
 "nbformat_minor": 2
}
